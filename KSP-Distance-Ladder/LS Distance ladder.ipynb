{
 "cells": [
  {
   "cell_type": "markdown",
   "metadata": {},
   "source": [
    "LS Distance Ladder\n",
    "\n"
   ]
  },
  {
   "cell_type": "code",
   "execution_count": null,
   "metadata": {},
   "outputs": [],
   "source": [
    "import numpy as np\n",
    "import pandas as pd\n",
    "import matplotlib.pyplot as plt\n",
    "#importing the necessary packages"
   ]
  },
  {
   "cell_type": "code",
   "execution_count": null,
   "metadata": {},
   "outputs": [],
   "source": [
    "gaia_data = pd.read_csv('C:/Users/arnav/downloads/gaia.csv')\n",
    "#reads the csv file containing the data given by GAIA containing the time period , apparant magnitude and parallax of the various cepheids of our galaxy"
   ]
  },
  {
   "cell_type": "code",
   "execution_count": null,
   "metadata": {},
   "outputs": [],
   "source": [
    "# Get the scatter plot of M and log_10(P) and the best fit line\n",
    "# Get the values of alpha and beta\n",
    "# For parallax given in milli arc seconds. The distance is given by 1000/parallax in parsecs\n",
    "# The absolute magnitude is given by M=m-5log10(d)+5\n",
    "parallax=gaia_data['parallax']\n",
    "\n",
    "# Calculates distance\n",
    "distance=1000/parallax\n",
    "m=gaia_data['mean apparent magnitude']\n",
    "\n",
    "# Calculates absolute magnitude\n",
    "abs_m=m - (5 * np.log10(distance)) + 5\n",
    "log_p=np.log10(gaia_data['time period'])\n",
    "\n",
    "# Calculates the avlues of alpha and beta for best fit between log of period and absolute magnitude\n",
    "v=np.polyfit(log_p, abs_m, deg=1)\n",
    "p=np.poly1d(v)\n",
    "plt.plot(log_p, p(log_p), color=\"red\")\n",
    "plt.scatter(log_p, abs_m)\n",
    "plt.xlabel('log_10(P (in days))')\n",
    "plt.ylabel('Absolute Magnitude (M)')\n",
    "plt.show()\n",
    "print(v)\n"
   ]
  },
  {
   "cell_type": "markdown",
   "metadata": {},
   "source": [
    "Getting the distances to our galaxies"
   ]
  },
  {
   "cell_type": "code",
   "execution_count": null,
   "metadata": {},
   "outputs": [],
   "source": [
    "cepheid_data = pd.read_csv('C:/Users/arnav/downloads/cepheid.csv')\n",
    "#reads the csv file"
   ]
  },
  {
   "cell_type": "code",
   "execution_count": null,
   "metadata": {},
   "outputs": [],
   "source": [
    "# Initialize dictionary to store distances and list for all distances\n",
    "galaxy_distance = {}\n",
    "distances = []\n",
    "\n",
    "# Iterate through each Cepheid star's data to calculate distances\n",
    "for i in range(len(cepheid_data['Apparent Magnitude'])):\n",
    "    # Calculate the distance of the galaxy using the formula: \n",
    "    # m - M = 5 * log10(d) - 5 => d = 10^((m - M + 5) / 5)\n",
    "    m = cepheid_data['Apparent Magnitude'][i]\n",
    "    M = p(np.log10(cepheid_data['Period'][i]))\n",
    "    d = 10 ** ((m - M + 5) / 5)\n",
    "    \n",
    "    # Append the calculated distance to the distances list\n",
    "    distances.append(d)\n",
    "    \n",
    "    # Add the distance to the galaxy_distance dictionary\n",
    "    galaxy_id = cepheid_data['Galaxy_ID'][i]\n",
    "    if galaxy_id in galaxy_distance:\n",
    "        galaxy_distance[galaxy_id].append(d)\n",
    "    else:\n",
    "        galaxy_distance[galaxy_id] = [d]\n",
    "\n",
    "# Convert all distances to numpy arrays and ensure they are of float type\n",
    "for key in galaxy_distance:\n",
    "    galaxy_distance[key] = np.array(galaxy_distance[key], dtype=float)\n",
    "distances = np.array(distances, dtype=float)\n",
    "\n",
    "# Remove outliers: Distances less than 100,000 parsecs and greater than 2.1e7 parsecs\n",
    "for key in galaxy_distance:\n",
    "    galaxy_distance[key] = galaxy_distance[key][galaxy_distance[key] > 100000]\n",
    "distances = distances[(distances > 100000) & (distances < 2.1e7)]\n",
    "\n",
    "# Remove empty entries from the galaxy_distance dictionary\n",
    "galaxy_distance = {key: galaxy_distance[key] for key in galaxy_distance if len(galaxy_distance[key]) > 0}\n",
    "\n",
    "# Calculate the mean distance to each galaxy\n",
    "galaxy_mean_distance = {key: np.mean(galaxy_distance[key]) for key in galaxy_distance}\n",
    "\n",
    "# Plot histogram of distances with reasonable outliers\n",
    "plt.xlabel('Distance of galaxy (Parsec)')\n",
    "plt.ylabel('Frequency')\n",
    "plt.hist(distances, bins=50)\n",
    "plt.title('Histogram of Galaxy Distances')\n",
    "plt.show()"
   ]
  },
  {
   "cell_type": "markdown",
   "metadata": {},
   "source": [
    "Note that one of the galaxies (the one with ID) PGC040505 gives a distance of 2383 parsecs with its only data entry. This distance is unfeasable physically so nothing can be said about this galaxy's distance."
   ]
  }
 ],
 "metadata": {
  "kernelspec": {
   "display_name": "Python 3",
   "language": "python",
   "name": "python3"
  },
  "language_info": {
   "codemirror_mode": {
    "name": "ipython",
    "version": 3
   },
   "file_extension": ".py",
   "mimetype": "text/x-python",
   "name": "python",
   "nbconvert_exporter": "python",
   "pygments_lexer": "ipython3",
   "version": "3.12.2"
  }
 },
 "nbformat": 4,
 "nbformat_minor": 2
}
